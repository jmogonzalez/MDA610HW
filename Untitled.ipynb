{
 "cells": [
  {
   "cell_type": "code",
   "execution_count": 2,
   "metadata": {},
   "outputs": [
    {
     "name": "stdout",
     "output_type": "stream",
     "text": [
      "What is my favorite color?\tRed\n",
      "deR\n"
     ]
    }
   ],
   "source": [
    "userinfo = input(str('What is my favorite color?\\t'))\n",
    "infoprint = userinfo [::-1]\n",
    "print(infoprint)"
   ]
  },
  {
   "cell_type": "code",
   "execution_count": null,
   "metadata": {},
   "outputs": [],
   "source": [
    "list=[1,2,3]\n",
    "userinput=int(input('Add a number to my list\\t'))\n",
    "list.append(userinput)\n",
    "print(sum(list)/4)\n"
   ]
  },
  {
   "cell_type": "code",
   "execution_count": null,
   "metadata": {},
   "outputs": [],
   "source": [
    "r=float(input('What is the radius of a circle?\\t'))\n",
    "math import pi print(\"The area of the circle with a radius of:t\\\" + str(r) +\"\\tis:\\n\" + str(pi * r**2))"
   ]
  }
 ],
 "metadata": {
  "kernelspec": {
   "display_name": "Python 3",
   "language": "python",
   "name": "python3"
  },
  "language_info": {
   "codemirror_mode": {
    "name": "ipython",
    "version": 3
   },
   "file_extension": ".py",
   "mimetype": "text/x-python",
   "name": "python",
   "nbconvert_exporter": "python",
   "pygments_lexer": "ipython3",
   "version": "3.7.3"
  }
 },
 "nbformat": 4,
 "nbformat_minor": 2
}
