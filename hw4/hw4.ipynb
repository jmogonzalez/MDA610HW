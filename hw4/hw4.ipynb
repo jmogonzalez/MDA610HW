{
 "cells": [
  {
   "cell_type": "code",
   "execution_count": 1,
   "metadata": {},
   "outputs": [
    {
     "name": "stdout",
     "output_type": "stream",
     "text": [
      "What is my favorite color?\tred\n",
      "der\n"
     ]
    }
   ],
   "source": [
    "userinfo = input(str('What is my favorite color?\\t'))\n",
    "infoprint = userinfo [::-1]\n",
    "print(infoprint)\n",
    "\n"
   ]
  },
  {
   "cell_type": "code",
   "execution_count": 2,
   "metadata": {},
   "outputs": [
    {
     "name": "stdout",
     "output_type": "stream",
     "text": [
      "Add a number to my list\t4\n",
      "2.5\n"
     ]
    }
   ],
   "source": [
    "list=[1,2,3]\n",
    "userinput=int(input('Add a number to my list\\t'))\n",
    "list.append(userinput)\n",
    "print(sum(list)/4)\n"
   ]
  },
  {
   "cell_type": "code",
   "execution_count": 3,
   "metadata": {},
   "outputs": [
    {
     "name": "stdout",
     "output_type": "stream",
     "text": [
      "what is the radius of the circle?\t2\n",
      "the area of the with a radius of:\t2.0\tis:n12.566370614359172\n"
     ]
    }
   ],
   "source": [
    "r=float(input('what is the radius of the circle?\\t'))\n",
    "from math import pi\n",
    "print(\"the area of the with a radius of:\\t\" +str(r)+\"\\tis:n\"+ str(pi * r**2))\n"
   ]
  },
  {
   "cell_type": "code",
   "execution_count": 4,
   "metadata": {},
   "outputs": [
    {
     "name": "stdout",
     "output_type": "stream",
     "text": [
      "Please input a number : 5\n",
      "Natural logarithm of5.0is: 1.6094379124341003\n",
      "Common logarithm of5.0is: 0.6989700043360187\n"
     ]
    }
   ],
   "source": [
    "import math\n",
    "x=float(input (\"Please input a number : \"))\n",
    "y=math.log(x)\n",
    "k=math.log(x,10)\n",
    "print (\"Natural logarithm of\" + str(x) + \"is: \" + str(y))\n",
    "print (\"Common logarithm of\" + str(x) + \"is: \" + str(k))"
   ]
  },
  {
   "cell_type": "code",
   "execution_count": null,
   "metadata": {},
   "outputs": [],
   "source": []
  }
 ],
 "metadata": {
  "kernelspec": {
   "display_name": "Python 3",
   "language": "python",
   "name": "python3"
  },
  "language_info": {
   "codemirror_mode": {
    "name": "ipython",
    "version": 3
   },
   "file_extension": ".py",
   "mimetype": "text/x-python",
   "name": "python",
   "nbconvert_exporter": "python",
   "pygments_lexer": "ipython3",
   "version": "3.7.3"
  }
 },
 "nbformat": 4,
 "nbformat_minor": 2
}
