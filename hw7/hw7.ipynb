{
 "cells": [
  {
   "cell_type": "code",
   "execution_count": 1,
   "metadata": {},
   "outputs": [
    {
     "name": "stdout",
     "output_type": "stream",
     "text": [
      "Mean of data set 1 is 35.53333333333333\n",
      "Standard Deviation of sample is 30.281693353921813 \n",
      "Variance of data set 1 is 916.9809523809524\n"
     ]
    }
   ],
   "source": [
    "# importing Statistics module  \n",
    "import statistics\n",
    "from statistics import mean\n",
    "\n",
    "# creating a simple data - set \n",
    "data1 = [25,15,80,2,48,63,18,76,6,49,20,16,11,10,94] \n",
    "print(\"Mean of data set 1 is % s\" % (mean(data1))) \n",
    "\n",
    "# Prints standard deviation \n",
    "# xbar is set to default value of 1 \n",
    "print(\"Standard Deviation of sample is % s \"\n",
    "\t\t\t\t% (statistics.stdev(data1))) \n",
    "\n",
    "print(\"Variance of data set 1 is % s\" %(statistics.variance(data1)))\n"
   ]
  },
  {
   "cell_type": "code",
   "execution_count": 36,
   "metadata": {},
   "outputs": [
    {
     "name": "stdout",
     "output_type": "stream",
     "text": [
      "Enter a series of numbers. When series is done type stop:1,2,3,4,stop,10\n"
     ]
    },
    {
     "data": {
      "text/plain": [
       "1.0"
      ]
     },
     "execution_count": 36,
     "metadata": {},
     "output_type": "execute_result"
    }
   ],
   "source": [
    "def mean():\n",
    "    x=input(\"Enter a series of numbers. When series is done type stop:\")\n",
    "    huh=x.split(\",\",)\n",
    "    new=[]\n",
    "    for i in huh:\n",
    "        if i =='stop':\n",
    "            break\n",
    "        else:\n",
    "            new.append(int(i))\n",
    "        avg=sum(new)/len(new)\n",
    "        return(avg)\n",
    "mean()\n",
    "                \n",
    "                "
   ]
  },
  {
   "cell_type": "code",
   "execution_count": null,
   "metadata": {},
   "outputs": [],
   "source": []
  }
 ],
 "metadata": {
  "kernelspec": {
   "display_name": "Python 3",
   "language": "python",
   "name": "python3"
  }
 },
 "nbformat": 4,
 "nbformat_minor": 2
}
