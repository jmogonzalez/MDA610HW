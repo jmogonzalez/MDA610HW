{
 "cells": [
  {
   "cell_type": "code",
   "execution_count": 1,
   "metadata": {},
   "outputs": [
    {
     "name": "stdout",
     "output_type": "stream",
     "text": [
      "Count of all characters in Peter Pepper picked a pickle is :\n",
      " {'P': 2, 'e': 6, 't': 1, 'r': 2, ' ': 4, 'p': 4, 'i': 2, 'c': 2, 'k': 2, 'd': 1, 'a': 1, 'l': 1}\n"
     ]
    }
   ],
   "source": [
    "# Python3 code to demonstrate \n",
    "# each occurrence frequency using \n",
    "# naive method \n",
    "\n",
    "# initializing string \n",
    "test_str = \"Peter Pepper picked a pickle\"\n",
    "\n",
    "# using naive method to get count \n",
    "# of each element in string \n",
    "all_freq = {} \n",
    "\n",
    "for i in test_str: \n",
    "\tif i in all_freq: \n",
    "\t\tall_freq[i] += 1\n",
    "\telse: \n",
    "\t\tall_freq[i] = 1\n",
    "\n",
    "# printing result \n",
    "print (\"Count of all characters in Peter Pepper picked a pickle is :\\n \"\n",
    "\t\t\t\t\t\t\t\t\t\t+ str(all_freq)) \n"
   ]
  },
  {
   "cell_type": "code",
   "execution_count": 20,
   "metadata": {},
   "outputs": [
    {
     "name": "stdout",
     "output_type": "stream",
     "text": [
      "Maximum of 1,5,8,12,22,30,45,50,66,75,80,82,90,100,105, and 150 is : 150\n"
     ]
    }
   ],
   "source": [
    "print(\"Maximum of 1,5,8,12,22,30,45,50,66,75,80,82,90,100,105, and 150 is : \",end=\"\")\n",
    "print(max(1,5,8,12,22,30,45,50,66,75,80,82,90,100,105,150))      "
   ]
  },
  {
   "cell_type": "code",
   "execution_count": 21,
   "metadata": {},
   "outputs": [
    {
     "name": "stdout",
     "output_type": "stream",
     "text": [
      "1\n"
     ]
    }
   ],
   "source": [
    "print(min(1,5,8,12,22,30,45,50,66,75,80,82,90,100,105,150))"
   ]
  },
  {
   "cell_type": "code",
   "execution_count": 2,
   "metadata": {},
   "outputs": [
    {
     "data": {
      "text/plain": [
       "[1, 6, 8, 14]"
      ]
     },
     "execution_count": 2,
     "metadata": {},
     "output_type": "execute_result"
    }
   ],
   "source": [
    "def cum_sum(x):\n",
    "    for i in range(len(x)):\n",
    "        if i == 0:\n",
    "            x[i]=x[i]\n",
    "        else:\n",
    "            x[i]=x[i-1]+x[i]\n",
    "    return x\n",
    "\n",
    "a = [1,5,2,6]\n",
    "cum_sum(a)"
   ]
  },
  {
   "cell_type": "code",
   "execution_count": 6,
   "metadata": {},
   "outputs": [
    {
     "data": {
      "text/plain": [
       "22"
      ]
     },
     "execution_count": 6,
     "metadata": {},
     "output_type": "execute_result"
    }
   ],
   "source": [
    "def dot(x,y):\n",
    "    if len(x) == len(y):\n",
    "        sum = 0\n",
    "        for i in range(len(x)):\n",
    "            n = x[i]*y[i]\n",
    "            sum += n\n",
    "        return sum\n",
    "            \n",
    "    else:\n",
    "        print('Error: Two lists are not equal')\n",
    "\n",
    "x = [1,5,2,6]\n",
    "y = [0,2,3,1]\n",
    "dot(x,y)"
   ]
  },
  {
   "cell_type": "code",
   "execution_count": null,
   "metadata": {},
   "outputs": [],
   "source": []
  }
 ],
 "metadata": {
  "kernelspec": {
   "display_name": "Python 3",
   "language": "python",
   "name": "python3"
  },
  "language_info": {
   "codemirror_mode": {
    "name": "ipython",
    "version": 3
   },
   "file_extension": ".py",
   "mimetype": "text/x-python",
   "name": "python",
   "nbconvert_exporter": "python",
   "pygments_lexer": "ipython3",
   "version": "3.7.3"
  }
 },
 "nbformat": 4,
 "nbformat_minor": 2
}
